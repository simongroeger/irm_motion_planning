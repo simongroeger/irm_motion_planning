{
 "cells": [
  {
   "cell_type": "code",
   "execution_count": 1,
   "metadata": {},
   "outputs": [
    {
     "name": "stdout",
     "output_type": "stream",
     "text": [
      "You can open the visualizer by visiting the following URL:\n",
      "http://127.0.0.1:7000/static/\n"
     ]
    },
    {
     "data": {
      "text/html": [
       "\n",
       "            <div style=\"height: 400px; width: 100%; overflow-x: auto; overflow-y: hidden; resize: both\">\n",
       "            <iframe src=\"http://127.0.0.1:7000/static/\" style=\"width: 100%; height: 100%; border: none\"></iframe>\n",
       "            </div>\n",
       "            "
      ],
      "text/plain": [
       "<IPython.core.display.HTML object>"
      ]
     },
     "execution_count": 1,
     "metadata": {},
     "output_type": "execute_result"
    }
   ],
   "source": [
    "import numpy as np\n",
    "from meshcat_viewer_wrapper.pendulum_env import NPendulum\n",
    "import time\n",
    "import pinocchio as pin\n",
    "import numpy as np\n",
    "from meshcat_viewer_wrapper.visualizer import MeshcatVisualizer\n",
    "from types import SimpleNamespace\n",
    "\n",
    "\n",
    "pen = NPendulum(3) # 3 link pendulum\n",
    "viz = MeshcatVisualizer(model=pen.model, visual_model=pen.geom_model, collision_model=pen.geom_model)\n",
    "\n",
    "ob_radius = 0.4\n",
    "obstacles = []\n",
    "obs_pos = [\n",
    "    [0, 3, 2],\n",
    "    [0, -2, -2],\n",
    "    [0, -3, 3],\n",
    "    [0, 2, -1],\n",
    "    [0, -1, -2],\n",
    "    [0, 1, -1],\n",
    "    [0, 3, -2],\n",
    "    [0, 0, -2],\n",
    "    [0, -3, 1],\n",
    "    [0, -3, 2],\n",
    "    [0, -2, 3]\n",
    "]\n",
    "for i, pos in enumerate(obs_pos):\n",
    "    obstacles.append(SimpleNamespace(radius=ob_radius, pos=np.array(pos), name=f\"obs_\" + str(i)))\n",
    "\n",
    "for io, o in enumerate(obstacles):\n",
    "    viz.addSphere(f\"obs_{io}\", o.radius, [0.1, 0.1, 0.1, 0.9])\n",
    "    viz.applyConfiguration(f\"obs_{io}\", pin.SE3(np.eye(3), o.pos))\n",
    "    \n",
    "start_config = SimpleNamespace(radius=0.1, pos=np.array([0, 0, 3]), name=\"start_config\")\n",
    "viz.addSphere(\"start_config\", 0.1, [0.5, 0.5, 0.0, 0.9])\n",
    "viz.applyConfiguration(\"start_config\", pin.SE3(np.eye(3), start_config.pos))\n",
    "\n",
    "goal_config = SimpleNamespace(radius=0.1, pos=np.array([0, -2.6802087, -0.20574829]), name=\"goal_config\")\n",
    "viz.addSphere(\"goal_config\", 0.1, [0.5, 0.5, 0.1, 0.9])\n",
    "viz.applyConfiguration(\"goal_config\", pin.SE3(np.eye(3), goal_config.pos))\n",
    "\n",
    "\n",
    "\n",
    "\n",
    "# Display a robot configuration.\n",
    "q0 = pin.neutral(pen.model)\n",
    "viz.display(q0)\n",
    "\n",
    "viz.viewer.jupyter_cell()\n"
   ]
  },
  {
   "cell_type": "markdown",
   "metadata": {},
   "source": [
    "We can use the pin.aba to call the articulated body algorithm to compute its joint acceleration under a predefined control signal."
   ]
  },
  {
   "cell_type": "code",
   "execution_count": 7,
   "metadata": {},
   "outputs": [],
   "source": [
    "trajectory = np.loadtxt(\"trajectory_result.txt\")\n",
    "\n",
    "for config in trajectory:\n",
    "    q = np.array(config)\n",
    "    viz.display(q)\n",
    "    time.sleep(0.1)\n",
    "\n",
    "\n"
   ]
  }
 ],
 "metadata": {
  "kernelspec": {
   "display_name": "Python 3 (ipykernel)",
   "language": "python",
   "name": "python3"
  },
  "language_info": {
   "codemirror_mode": {
    "name": "ipython",
    "version": 3
   },
   "file_extension": ".py",
   "mimetype": "text/x-python",
   "name": "python",
   "nbconvert_exporter": "python",
   "pygments_lexer": "ipython3",
   "version": "3.8.10"
  }
 },
 "nbformat": 4,
 "nbformat_minor": 4
}
